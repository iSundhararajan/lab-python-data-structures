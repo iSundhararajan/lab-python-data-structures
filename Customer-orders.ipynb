{
 "cells": [
  {
   "cell_type": "code",
   "execution_count": 1,
   "metadata": {},
   "outputs": [
    {
     "name": "stdout",
     "output_type": "stream",
     "text": [
      "\n",
      "Customer orders: {'book', 'hat', 'mug'}\n",
      "\n",
      "Order statistics:\n",
      "Total Products Ordered: 3\n",
      "Percentage of Products Ordered: 6.00%\n",
      "\n",
      "Updated Inventory:\n",
      "t-shirt: 1\n",
      "mug: 2\n",
      "hat: 3\n",
      "book: 4\n",
      "keychain: 5\n"
     ]
    }
   ],
   "source": [
    "products = [\"t-shirt\", \"mug\", \"hat\", \"book\", \"keychain\"]\n",
    "inventory = {}\n",
    "quantity = input(\"Input quantity of t-shirts available: \")\n",
    "inventory['t-shirt'] = quantity\n",
    "\n",
    "quantity = input(\"Input quantity of mugs available: \")\n",
    "inventory['mug'] = quantity\n",
    "\n",
    "quantity = input(\"Input quantity of hats available: \")\n",
    "inventory['hat'] = quantity\n",
    "\n",
    "quantity = input(\"Input quantity of books available: \")\n",
    "inventory['book'] = quantity\n",
    "\n",
    "quantity = input(\"Input quantity of keychains available: \")\n",
    "inventory['keychain'] = quantity\n",
    "\n",
    "# print(inventory)\n",
    "print()\n",
    "\n",
    "customer_orders = set()\n",
    "order = input(\"List the first product you want: \")\n",
    "customer_orders.add(order)\n",
    "order = input(\"List the second product you want: \")\n",
    "customer_orders.add(order)\n",
    "order = input(\"List the third product you want: \")\n",
    "customer_orders.add(order)\n",
    "\n",
    "print(\"Customer orders:\", customer_orders)\n",
    "print()\n",
    "\n",
    "total_products_ordered = len(customer_orders)\n",
    "percentage_ordered = (total_products_ordered / len(products)) * 10\n",
    "\n",
    "order_status = (total_products_ordered, percentage_ordered)\n",
    "\n",
    "print(\"Order statistics:\")\n",
    "print(\"Total Products Ordered:\", order_status[0])\n",
    "print(\"Percentage of Products Ordered: {:.2f}%\".format(order_status[1]))\n",
    "\n",
    "print()\n",
    "\n",
    "for products in inventory:\n",
    "  inventory[products] = int(inventory[products]) - 1\n",
    "\n",
    "print(\"Updated Inventory:\")\n",
    "for products, quantity in inventory.items():\n",
    "    print(products + \":\", quantity)\n",
    "\n",
    "\n",
    "  "
   ]
  }
 ],
 "metadata": {
  "kernelspec": {
   "display_name": "Python 3",
   "language": "python",
   "name": "python3"
  },
  "language_info": {
   "codemirror_mode": {
    "name": "ipython",
    "version": 3
   },
   "file_extension": ".py",
   "mimetype": "text/x-python",
   "name": "python",
   "nbconvert_exporter": "python",
   "pygments_lexer": "ipython3",
   "version": "3.11.7"
  }
 },
 "nbformat": 4,
 "nbformat_minor": 2
}
